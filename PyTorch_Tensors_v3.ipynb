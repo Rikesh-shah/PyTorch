{
  "nbformat": 4,
  "nbformat_minor": 0,
  "metadata": {
    "colab": {
      "provenance": []
    },
    "kernelspec": {
      "name": "python3",
      "display_name": "Python 3"
    },
    "language_info": {
      "name": "python"
    }
  },
  "cells": [
    {
      "cell_type": "markdown",
      "source": [
        "## What are Tensors?"
      ],
      "metadata": {
        "id": "cZBfSZrRtw-h"
      }
    },
    {
      "cell_type": "markdown",
      "source": [
        "Tensors are a fundamental data structure used in the field of machine learning and scientific computing.\n",
        "At their core, tensors are multi-dimensional arrays"
      ],
      "metadata": {
        "id": "qAn_eBrUtyPA"
      }
    },
    {
      "cell_type": "code",
      "execution_count": 1,
      "metadata": {
        "id": "pQP6kfTBtqaB"
      },
      "outputs": [],
      "source": [
        "import torch"
      ]
    },
    {
      "cell_type": "code",
      "source": [
        "# using a list\n",
        "lst = list(range(10))\n",
        "print(f\"List : {lst}\")\n",
        "\n",
        "a = torch.tensor(lst)\n",
        "print(f\"Torch Tensor : {a}\")"
      ],
      "metadata": {
        "colab": {
          "base_uri": "https://localhost:8080/"
        },
        "id": "jcfkU9VEt2GI",
        "outputId": "729f366f-4ace-4df7-8b57-185e97b38c30"
      },
      "execution_count": 2,
      "outputs": [
        {
          "output_type": "stream",
          "name": "stdout",
          "text": [
            "List : [0, 1, 2, 3, 4, 5, 6, 7, 8, 9]\n",
            "Torch Tensor : tensor([0, 1, 2, 3, 4, 5, 6, 7, 8, 9])\n"
          ]
        }
      ]
    },
    {
      "cell_type": "code",
      "source": [
        "# Creating a 2D tensor (matrix)\n",
        "tensor_2d = torch.tensor([[1, 2, 3],\n",
        "                          [4, 5, 6]])\n",
        "\n",
        "# Creating a 3D tensor\n",
        "tensor_3d = torch.tensor([[[1, 2, 3],\n",
        "                           [4, 5, 6]],\n",
        "                          [[7, 8, 9],\n",
        "                           [10, 11, 12]]])\n",
        "\n",
        "# Creating a 4D tensor\n",
        "tensor_4d = torch.tensor([[[[1, 2],\n",
        "                            [3, 4]],\n",
        "                           [[5, 6],\n",
        "                            [7, 8]]],\n",
        "                          [[[9, 10],\n",
        "                            [11, 12]],\n",
        "                           [[13, 14],\n",
        "                            [15, 16]]]])\n",
        "\n",
        "# Print the tensors\n",
        "print(\"2D Tensor (Matrix):\")\n",
        "print(tensor_2d)\n",
        "print(\"Shape:\", tensor_2d.shape)\n",
        "print(\"\\n\")\n",
        "\n",
        "print(\"\\n3D Tensor:\")\n",
        "print(tensor_3d)\n",
        "print(\"Shape:\", tensor_3d.shape)\n",
        "print(\"\\n\")\n",
        "\n",
        "\n",
        "print(\"\\n4D Tensor:\")\n",
        "print(tensor_4d)\n",
        "print(\"Shape:\", tensor_4d.shape)"
      ],
      "metadata": {
        "colab": {
          "base_uri": "https://localhost:8080/"
        },
        "id": "E6HQ7r0It23y",
        "outputId": "acea0987-c8e4-4f7a-a1de-c5daa8fea3bf"
      },
      "execution_count": 6,
      "outputs": [
        {
          "output_type": "stream",
          "name": "stdout",
          "text": [
            "2D Tensor (Matrix):\n",
            "tensor([[1, 2, 3],\n",
            "        [4, 5, 6]])\n",
            "Shape: torch.Size([2, 3])\n",
            "\n",
            "\n",
            "\n",
            "3D Tensor:\n",
            "tensor([[[ 1,  2,  3],\n",
            "         [ 4,  5,  6]],\n",
            "\n",
            "        [[ 7,  8,  9],\n",
            "         [10, 11, 12]]])\n",
            "Shape: torch.Size([2, 2, 3])\n",
            "\n",
            "\n",
            "\n",
            "4D Tensor:\n",
            "tensor([[[[ 1,  2],\n",
            "          [ 3,  4]],\n",
            "\n",
            "         [[ 5,  6],\n",
            "          [ 7,  8]]],\n",
            "\n",
            "\n",
            "        [[[ 9, 10],\n",
            "          [11, 12]],\n",
            "\n",
            "         [[13, 14],\n",
            "          [15, 16]]]])\n",
            "Shape: torch.Size([2, 2, 2, 2])\n"
          ]
        }
      ]
    },
    {
      "cell_type": "code",
      "source": [
        "tensor_2d.dtype"
      ],
      "metadata": {
        "colab": {
          "base_uri": "https://localhost:8080/"
        },
        "id": "83K7vE0pt26x",
        "outputId": "540600f3-a142-4fdf-dd20-660fb0fae8be"
      },
      "execution_count": 7,
      "outputs": [
        {
          "output_type": "execute_result",
          "data": {
            "text/plain": [
              "torch.int64"
            ]
          },
          "metadata": {},
          "execution_count": 7
        }
      ]
    },
    {
      "cell_type": "code",
      "source": [
        "import numpy as np\n",
        "\n",
        "np_array = np.array(list(range(10)))\n",
        "print(f\"Numpy array:{np_array} || datatype : {type(np_array)}\")\n",
        "\n",
        "# convert numpy array to torch tensor\n",
        "torch_tensor = torch.tensor(np_array)\n",
        "# or\n",
        "torch_tensor_a = torch.from_numpy(np_array)\n",
        "print(f\"Torch Tensor:{torch_tensor} || datatype : {type(torch_tensor)}\")\n",
        "print(f\"Torch Tensor_a:{torch_tensor_a} || datatype : {type(torch_tensor_a)}\")\n",
        "\n",
        "# convert torch tensor to numpy\n",
        "c = torch_tensor.numpy()\n",
        "print(f\"Numpy array:{c} || datatype : {type(c)}\")"
      ],
      "metadata": {
        "colab": {
          "base_uri": "https://localhost:8080/"
        },
        "id": "24ta3wDSt2-6",
        "outputId": "c95d2822-81b5-480f-fdff-e5518f58c86e"
      },
      "execution_count": 10,
      "outputs": [
        {
          "output_type": "stream",
          "name": "stdout",
          "text": [
            "Numpy array:[0 1 2 3 4 5 6 7 8 9] || datatype : <class 'numpy.ndarray'>\n",
            "Torch Tensor:tensor([0, 1, 2, 3, 4, 5, 6, 7, 8, 9]) || datatype : <class 'torch.Tensor'>\n",
            "Torch Tensor_a:tensor([0, 1, 2, 3, 4, 5, 6, 7, 8, 9]) || datatype : <class 'torch.Tensor'>\n",
            "Numpy array:[0 1 2 3 4 5 6 7 8 9] || datatype : <class 'numpy.ndarray'>\n"
          ]
        }
      ]
    },
    {
      "cell_type": "code",
      "source": [
        "hashmap = {1:1,2:2,3:3}\n",
        "print(\"Datatype\",type(hashmap))\n",
        "print(torch.tensor(hashmap))"
      ],
      "metadata": {
        "colab": {
          "base_uri": "https://localhost:8080/",
          "height": 193
        },
        "id": "ZM8fuw4Ht3By",
        "outputId": "7d558634-dfcf-442f-a6e7-e6cbf75c3832"
      },
      "execution_count": 11,
      "outputs": [
        {
          "output_type": "stream",
          "name": "stdout",
          "text": [
            "Datatype <class 'dict'>\n"
          ]
        },
        {
          "output_type": "error",
          "ename": "RuntimeError",
          "evalue": "Could not infer dtype of dict",
          "traceback": [
            "\u001b[0;31m---------------------------------------------------------------------------\u001b[0m",
            "\u001b[0;31mRuntimeError\u001b[0m                              Traceback (most recent call last)",
            "\u001b[0;32m<ipython-input-11-727ec46efb90>\u001b[0m in \u001b[0;36m<cell line: 3>\u001b[0;34m()\u001b[0m\n\u001b[1;32m      1\u001b[0m \u001b[0mhashmap\u001b[0m \u001b[0;34m=\u001b[0m \u001b[0;34m{\u001b[0m\u001b[0;36m1\u001b[0m\u001b[0;34m:\u001b[0m\u001b[0;36m1\u001b[0m\u001b[0;34m,\u001b[0m\u001b[0;36m2\u001b[0m\u001b[0;34m:\u001b[0m\u001b[0;36m2\u001b[0m\u001b[0;34m,\u001b[0m\u001b[0;36m3\u001b[0m\u001b[0;34m:\u001b[0m\u001b[0;36m3\u001b[0m\u001b[0;34m}\u001b[0m\u001b[0;34m\u001b[0m\u001b[0;34m\u001b[0m\u001b[0m\n\u001b[1;32m      2\u001b[0m \u001b[0mprint\u001b[0m\u001b[0;34m(\u001b[0m\u001b[0;34m\"Datatype\"\u001b[0m\u001b[0;34m,\u001b[0m\u001b[0mtype\u001b[0m\u001b[0;34m(\u001b[0m\u001b[0mhashmap\u001b[0m\u001b[0;34m)\u001b[0m\u001b[0;34m)\u001b[0m\u001b[0;34m\u001b[0m\u001b[0;34m\u001b[0m\u001b[0m\n\u001b[0;32m----> 3\u001b[0;31m \u001b[0mprint\u001b[0m\u001b[0;34m(\u001b[0m\u001b[0mtorch\u001b[0m\u001b[0;34m.\u001b[0m\u001b[0mtensor\u001b[0m\u001b[0;34m(\u001b[0m\u001b[0mhashmap\u001b[0m\u001b[0;34m)\u001b[0m\u001b[0;34m)\u001b[0m\u001b[0;34m\u001b[0m\u001b[0;34m\u001b[0m\u001b[0m\n\u001b[0m",
            "\u001b[0;31mRuntimeError\u001b[0m: Could not infer dtype of dict"
          ]
        }
      ]
    },
    {
      "cell_type": "code",
      "source": [
        "hashset = set([1,22,3,5,6,4,8])\n",
        "print(type(hashset))\n",
        "print(torch.tensor(hashset))"
      ],
      "metadata": {
        "colab": {
          "base_uri": "https://localhost:8080/",
          "height": 193
        },
        "id": "j1EwYQPwt3FT",
        "outputId": "6f4507ae-4432-440f-bb04-3cface5d2a0c"
      },
      "execution_count": 12,
      "outputs": [
        {
          "output_type": "stream",
          "name": "stdout",
          "text": [
            "<class 'set'>\n"
          ]
        },
        {
          "output_type": "error",
          "ename": "RuntimeError",
          "evalue": "Could not infer dtype of set",
          "traceback": [
            "\u001b[0;31m---------------------------------------------------------------------------\u001b[0m",
            "\u001b[0;31mRuntimeError\u001b[0m                              Traceback (most recent call last)",
            "\u001b[0;32m<ipython-input-12-7ccd3f5e91ce>\u001b[0m in \u001b[0;36m<cell line: 3>\u001b[0;34m()\u001b[0m\n\u001b[1;32m      1\u001b[0m \u001b[0mhashset\u001b[0m \u001b[0;34m=\u001b[0m \u001b[0mset\u001b[0m\u001b[0;34m(\u001b[0m\u001b[0;34m[\u001b[0m\u001b[0;36m1\u001b[0m\u001b[0;34m,\u001b[0m\u001b[0;36m22\u001b[0m\u001b[0;34m,\u001b[0m\u001b[0;36m3\u001b[0m\u001b[0;34m,\u001b[0m\u001b[0;36m5\u001b[0m\u001b[0;34m,\u001b[0m\u001b[0;36m6\u001b[0m\u001b[0;34m,\u001b[0m\u001b[0;36m4\u001b[0m\u001b[0;34m,\u001b[0m\u001b[0;36m8\u001b[0m\u001b[0;34m]\u001b[0m\u001b[0;34m)\u001b[0m\u001b[0;34m\u001b[0m\u001b[0;34m\u001b[0m\u001b[0m\n\u001b[1;32m      2\u001b[0m \u001b[0mprint\u001b[0m\u001b[0;34m(\u001b[0m\u001b[0mtype\u001b[0m\u001b[0;34m(\u001b[0m\u001b[0mhashset\u001b[0m\u001b[0;34m)\u001b[0m\u001b[0;34m)\u001b[0m\u001b[0;34m\u001b[0m\u001b[0;34m\u001b[0m\u001b[0m\n\u001b[0;32m----> 3\u001b[0;31m \u001b[0mprint\u001b[0m\u001b[0;34m(\u001b[0m\u001b[0mtorch\u001b[0m\u001b[0;34m.\u001b[0m\u001b[0mtensor\u001b[0m\u001b[0;34m(\u001b[0m\u001b[0mhashset\u001b[0m\u001b[0;34m)\u001b[0m\u001b[0;34m)\u001b[0m\u001b[0;34m\u001b[0m\u001b[0;34m\u001b[0m\u001b[0m\n\u001b[0m",
            "\u001b[0;31mRuntimeError\u001b[0m: Could not infer dtype of set"
          ]
        }
      ]
    },
    {
      "cell_type": "code",
      "source": [
        "tup = tuple([(\"a\",2),(\"b\",4),(\"c\",6)])\n",
        "print(type(tup))\n",
        "print(torch.tensor(tup))"
      ],
      "metadata": {
        "colab": {
          "base_uri": "https://localhost:8080/",
          "height": 193
        },
        "id": "tfyCtRBZt3Ia",
        "outputId": "a688025a-74d0-4416-cd17-c117b7526fb0"
      },
      "execution_count": 13,
      "outputs": [
        {
          "output_type": "stream",
          "name": "stdout",
          "text": [
            "<class 'tuple'>\n"
          ]
        },
        {
          "output_type": "error",
          "ename": "ValueError",
          "evalue": "too many dimensions 'str'",
          "traceback": [
            "\u001b[0;31m---------------------------------------------------------------------------\u001b[0m",
            "\u001b[0;31mValueError\u001b[0m                                Traceback (most recent call last)",
            "\u001b[0;32m<ipython-input-13-669fa105f623>\u001b[0m in \u001b[0;36m<cell line: 3>\u001b[0;34m()\u001b[0m\n\u001b[1;32m      1\u001b[0m \u001b[0mtup\u001b[0m \u001b[0;34m=\u001b[0m \u001b[0mtuple\u001b[0m\u001b[0;34m(\u001b[0m\u001b[0;34m[\u001b[0m\u001b[0;34m(\u001b[0m\u001b[0;34m\"a\"\u001b[0m\u001b[0;34m,\u001b[0m\u001b[0;36m2\u001b[0m\u001b[0;34m)\u001b[0m\u001b[0;34m,\u001b[0m\u001b[0;34m(\u001b[0m\u001b[0;34m\"b\"\u001b[0m\u001b[0;34m,\u001b[0m\u001b[0;36m4\u001b[0m\u001b[0;34m)\u001b[0m\u001b[0;34m,\u001b[0m\u001b[0;34m(\u001b[0m\u001b[0;34m\"c\"\u001b[0m\u001b[0;34m,\u001b[0m\u001b[0;36m6\u001b[0m\u001b[0;34m)\u001b[0m\u001b[0;34m]\u001b[0m\u001b[0;34m)\u001b[0m\u001b[0;34m\u001b[0m\u001b[0;34m\u001b[0m\u001b[0m\n\u001b[1;32m      2\u001b[0m \u001b[0mprint\u001b[0m\u001b[0;34m(\u001b[0m\u001b[0mtype\u001b[0m\u001b[0;34m(\u001b[0m\u001b[0mtup\u001b[0m\u001b[0;34m)\u001b[0m\u001b[0;34m)\u001b[0m\u001b[0;34m\u001b[0m\u001b[0;34m\u001b[0m\u001b[0m\n\u001b[0;32m----> 3\u001b[0;31m \u001b[0mprint\u001b[0m\u001b[0;34m(\u001b[0m\u001b[0mtorch\u001b[0m\u001b[0;34m.\u001b[0m\u001b[0mtensor\u001b[0m\u001b[0;34m(\u001b[0m\u001b[0mtup\u001b[0m\u001b[0;34m)\u001b[0m\u001b[0;34m)\u001b[0m\u001b[0;34m\u001b[0m\u001b[0;34m\u001b[0m\u001b[0m\n\u001b[0m",
            "\u001b[0;31mValueError\u001b[0m: too many dimensions 'str'"
          ]
        }
      ]
    },
    {
      "cell_type": "code",
      "source": [
        "tup_uniform = tuple([(1,2),(3,4),(5,6)])\n",
        "print(type(tup_uniform))\n",
        "print(torch.tensor(tup_uniform))"
      ],
      "metadata": {
        "colab": {
          "base_uri": "https://localhost:8080/"
        },
        "id": "5YhhBaSct3Nx",
        "outputId": "13c124bc-c95a-4620-81e2-54ca622ff197"
      },
      "execution_count": 14,
      "outputs": [
        {
          "output_type": "stream",
          "name": "stdout",
          "text": [
            "<class 'tuple'>\n",
            "tensor([[1, 2],\n",
            "        [3, 4],\n",
            "        [5, 6]])\n"
          ]
        }
      ]
    },
    {
      "cell_type": "code",
      "source": [
        "z = torch.zeros((5, 3))\n",
        "print(z)\n",
        "print(z.dtype)"
      ],
      "metadata": {
        "colab": {
          "base_uri": "https://localhost:8080/"
        },
        "id": "iHmnovLet3Q6",
        "outputId": "69dd491c-505e-4cda-cc45-79812e800072"
      },
      "execution_count": 15,
      "outputs": [
        {
          "output_type": "stream",
          "name": "stdout",
          "text": [
            "tensor([[0., 0., 0.],\n",
            "        [0., 0., 0.],\n",
            "        [0., 0., 0.],\n",
            "        [0., 0., 0.],\n",
            "        [0., 0., 0.]])\n",
            "torch.float32\n"
          ]
        }
      ]
    },
    {
      "cell_type": "code",
      "source": [
        "i = torch.ones((5, 3), dtype = torch.int16)\n",
        "print(i)"
      ],
      "metadata": {
        "colab": {
          "base_uri": "https://localhost:8080/"
        },
        "id": "ykUZltrDt3U5",
        "outputId": "4464daa6-1023-4e84-bae2-9e331fb60ebc"
      },
      "execution_count": 20,
      "outputs": [
        {
          "output_type": "stream",
          "name": "stdout",
          "text": [
            "tensor([[1, 1, 1],\n",
            "        [1, 1, 1],\n",
            "        [1, 1, 1],\n",
            "        [1, 1, 1],\n",
            "        [1, 1, 1]], dtype=torch.int16)\n"
          ]
        }
      ]
    },
    {
      "cell_type": "code",
      "source": [
        "torch.manual_seed(1)\n",
        "r1 = torch.rand(2, 2)\n",
        "print('A random tensor:')\n",
        "print(r1)\n",
        "\n",
        "torch.manual_seed(42)\n",
        "r2 = torch.rand(2, 2)\n",
        "print('\\nA different random tensor:')\n",
        "print(r2) # new values\n",
        "\n",
        "torch.manual_seed(1)\n",
        "r3 = torch.rand(2, 2)\n",
        "print('\\nShould match r1:')\n",
        "print(r3) # repeats values of r1 because of re-seed"
      ],
      "metadata": {
        "colab": {
          "base_uri": "https://localhost:8080/"
        },
        "id": "ZNpuE1zAt3YB",
        "outputId": "8e497ab3-caf3-4798-e5a8-ace7fd30a9c6"
      },
      "execution_count": 21,
      "outputs": [
        {
          "output_type": "stream",
          "name": "stdout",
          "text": [
            "A random tensor:\n",
            "tensor([[0.7576, 0.2793],\n",
            "        [0.4031, 0.7347]])\n",
            "\n",
            "A different random tensor:\n",
            "tensor([[0.8823, 0.9150],\n",
            "        [0.3829, 0.9593]])\n",
            "\n",
            "Should match r1:\n",
            "tensor([[0.7576, 0.2793],\n",
            "        [0.4031, 0.7347]])\n"
          ]
        }
      ]
    },
    {
      "cell_type": "code",
      "source": [
        "# create a tensor\n",
        "tensor = torch.tensor([[1,2,3],\n",
        "                       [4,5,6],\n",
        "                       [7,8,9]])"
      ],
      "metadata": {
        "id": "RVeJ9a1Lt3bZ"
      },
      "execution_count": 22,
      "outputs": []
    },
    {
      "cell_type": "code",
      "source": [
        "# access a single element\n",
        "print(f\"Single Element : {tensor[1,2]}\")"
      ],
      "metadata": {
        "colab": {
          "base_uri": "https://localhost:8080/"
        },
        "id": "VrRKZXuTt3ei",
        "outputId": "f04d04b1-aa5e-460c-acd0-98b5081b0652"
      },
      "execution_count": 23,
      "outputs": [
        {
          "output_type": "stream",
          "name": "stdout",
          "text": [
            "Single Element : 6\n"
          ]
        }
      ]
    },
    {
      "cell_type": "code",
      "source": [
        "# slicing\n",
        "print(\"Slicing : Sub-Tensors\")\n",
        "print(tensor[1:,:])"
      ],
      "metadata": {
        "colab": {
          "base_uri": "https://localhost:8080/"
        },
        "id": "dCMLwdhHt3i8",
        "outputId": "012f5511-cce8-432b-a927-3574d8f41f9b"
      },
      "execution_count": 24,
      "outputs": [
        {
          "output_type": "stream",
          "name": "stdout",
          "text": [
            "Slicing : Sub-Tensors\n",
            "tensor([[4, 5, 6],\n",
            "        [7, 8, 9]])\n"
          ]
        }
      ]
    },
    {
      "cell_type": "code",
      "source": [
        "# Fancy indexing: Access specific elements using a list of indices\n",
        "indices = torch.tensor([0, 2])\n",
        "print(\"Fancy indexing - Specific elements:\")\n",
        "print(tensor[:, indices])"
      ],
      "metadata": {
        "colab": {
          "base_uri": "https://localhost:8080/"
        },
        "id": "I2OcK_Gmt3mD",
        "outputId": "32b48986-124d-44c0-c3c7-119e3c5cff30"
      },
      "execution_count": 25,
      "outputs": [
        {
          "output_type": "stream",
          "name": "stdout",
          "text": [
            "Fancy indexing - Specific elements:\n",
            "tensor([[1, 3],\n",
            "        [4, 6],\n",
            "        [7, 9]])\n"
          ]
        }
      ]
    },
    {
      "cell_type": "code",
      "source": [
        "# Masked indexing: Access elements based on a boolean mask\n",
        "mask = tensor > 5\n",
        "print(mask)\n",
        "print(\"Masked indexing - Elements satisfying condition:\")\n",
        "print(tensor[mask])"
      ],
      "metadata": {
        "colab": {
          "base_uri": "https://localhost:8080/"
        },
        "id": "0arStxjNt3qq",
        "outputId": "1e3244d1-2b0c-4666-f2d2-d7b5a3b6c921"
      },
      "execution_count": 26,
      "outputs": [
        {
          "output_type": "stream",
          "name": "stdout",
          "text": [
            "tensor([[False, False, False],\n",
            "        [False, False,  True],\n",
            "        [ True,  True,  True]])\n",
            "Masked indexing - Elements satisfying condition:\n",
            "tensor([6, 7, 8, 9])\n"
          ]
        }
      ]
    },
    {
      "cell_type": "code",
      "source": [
        "# reshape method\n",
        "tensor1 = torch.tensor(list(range(36)))"
      ],
      "metadata": {
        "id": "2tKr7WHkt3tp"
      },
      "execution_count": 27,
      "outputs": []
    },
    {
      "cell_type": "code",
      "source": [
        "tensor1.reshape(-1,6)"
      ],
      "metadata": {
        "colab": {
          "base_uri": "https://localhost:8080/"
        },
        "id": "oVY908XJt3x0",
        "outputId": "83d163f4-bc59-4c50-f0cc-6b337efa864d"
      },
      "execution_count": 28,
      "outputs": [
        {
          "output_type": "execute_result",
          "data": {
            "text/plain": [
              "tensor([[ 0,  1,  2,  3,  4,  5],\n",
              "        [ 6,  7,  8,  9, 10, 11],\n",
              "        [12, 13, 14, 15, 16, 17],\n",
              "        [18, 19, 20, 21, 22, 23],\n",
              "        [24, 25, 26, 27, 28, 29],\n",
              "        [30, 31, 32, 33, 34, 35]])"
            ]
          },
          "metadata": {},
          "execution_count": 28
        }
      ]
    },
    {
      "cell_type": "markdown",
      "source": [
        "# Mathematical Operations"
      ],
      "metadata": {
        "id": "5wY6XPq7_ap6"
      }
    },
    {
      "cell_type": "code",
      "source": [
        "ones = torch.ones(2, 3)\n",
        "print(ones)\n",
        "\n",
        "twos = torch.ones(2, 3) * 2 # every element is multiplied by 2\n",
        "print(twos)\n",
        "\n",
        "threes = ones + twos       # additon allowed because shapes are similar\n",
        "print(threes)              # tensors are added element-wise\n",
        "print(threes.shape)        # this has the same dimensions as input tensors"
      ],
      "metadata": {
        "colab": {
          "base_uri": "https://localhost:8080/"
        },
        "id": "4s6uE1Stt30y",
        "outputId": "09875311-4fbf-4b4f-8f6a-2df1b2292419"
      },
      "execution_count": 29,
      "outputs": [
        {
          "output_type": "stream",
          "name": "stdout",
          "text": [
            "tensor([[1., 1., 1.],\n",
            "        [1., 1., 1.]])\n",
            "tensor([[2., 2., 2.],\n",
            "        [2., 2., 2.]])\n",
            "tensor([[3., 3., 3.],\n",
            "        [3., 3., 3.]])\n",
            "torch.Size([2, 3])\n"
          ]
        }
      ]
    },
    {
      "cell_type": "code",
      "source": [
        "# Supports Broadcasting\n",
        "\n",
        "a1 = torch.tensor([[1, 2, 3],\n",
        "                  [4, 5, 6]])\n",
        "print(f\"a1 shape :{a1.shape}\")\n",
        "\n",
        "b1 = torch.tensor([[10],\n",
        "                  [20]])\n",
        "print(f\"b1 shape :{b1.shape}\")\n",
        "\n",
        "# Perform element-wise addition (broadcasting)\n",
        "c1 = a1 + b1\n",
        "\n",
        "print(c1)"
      ],
      "metadata": {
        "colab": {
          "base_uri": "https://localhost:8080/"
        },
        "id": "jnM9axUtt345",
        "outputId": "45f47ea0-a9d6-4324-bae7-8d1c271fca9e"
      },
      "execution_count": 30,
      "outputs": [
        {
          "output_type": "stream",
          "name": "stdout",
          "text": [
            "a1 shape :torch.Size([2, 3])\n",
            "b1 shape :torch.Size([2, 1])\n",
            "tensor([[11, 12, 13],\n",
            "        [24, 25, 26]])\n"
          ]
        }
      ]
    },
    {
      "cell_type": "code",
      "source": [
        "# Due to inappropriate tensor shapes\n",
        "r1 = torch.rand(3,3,1)\n",
        "r2 = torch.rand(3,3,2)\n",
        "r3 = r1 + r2\n",
        "print(r3)"
      ],
      "metadata": {
        "colab": {
          "base_uri": "https://localhost:8080/"
        },
        "id": "lnr-c6nZt38B",
        "outputId": "f8adb690-d56a-41f9-b0c5-aef8b5900d4a"
      },
      "execution_count": 39,
      "outputs": [
        {
          "output_type": "stream",
          "name": "stdout",
          "text": [
            "tensor([[[1.3739, 1.2514],\n",
            "         [1.4474, 1.8229],\n",
            "         [1.2286, 1.0823]],\n",
            "\n",
            "        [[1.1243, 0.7625],\n",
            "         [1.2087, 0.6929],\n",
            "         [0.8472, 0.4569]],\n",
            "\n",
            "        [[0.5028, 0.2790],\n",
            "         [1.2316, 0.3399],\n",
            "         [0.4571, 0.8299]]])\n"
          ]
        }
      ]
    },
    {
      "cell_type": "code",
      "source": [
        "torch.manual_seed(2)\n",
        "r = torch.rand(2, 2) - 0.5 * 2 # values between -1 and 1\n",
        "print('A random matrix, r:')\n",
        "print(r)"
      ],
      "metadata": {
        "colab": {
          "base_uri": "https://localhost:8080/"
        },
        "id": "lqE-mWzdt4AK",
        "outputId": "4c8666c9-a4ab-4126-9b2b-4f1cadf17931"
      },
      "execution_count": 40,
      "outputs": [
        {
          "output_type": "stream",
          "name": "stdout",
          "text": [
            "A random matrix, r:\n",
            "tensor([[-0.3853, -0.6190],\n",
            "        [-0.3629, -0.5255]])\n"
          ]
        }
      ]
    },
    {
      "cell_type": "code",
      "source": [
        "# Common mathematical operations are supported:\n",
        "print('\\nAbsolute value of r:')\n",
        "print(torch.abs(r))"
      ],
      "metadata": {
        "colab": {
          "base_uri": "https://localhost:8080/"
        },
        "id": "Yh7Lhc5qt4DJ",
        "outputId": "2a26f131-9537-495d-83da-d944c934a34d"
      },
      "execution_count": 41,
      "outputs": [
        {
          "output_type": "stream",
          "name": "stdout",
          "text": [
            "\n",
            "Absolute value of r:\n",
            "tensor([[0.3853, 0.6190],\n",
            "        [0.3629, 0.5255]])\n"
          ]
        }
      ]
    },
    {
      "cell_type": "code",
      "source": [
        "# ...as are trigonometric functions:\n",
        "print('\\nInverse sine of r:')\n",
        "print(torch.asin(r))"
      ],
      "metadata": {
        "colab": {
          "base_uri": "https://localhost:8080/"
        },
        "id": "woTx5vZat4H9",
        "outputId": "cc0fbc9c-2d5d-470f-b0cd-fb39fcf4e3a3"
      },
      "execution_count": 46,
      "outputs": [
        {
          "output_type": "stream",
          "name": "stdout",
          "text": [
            "\n",
            "Inverse sine of r:\n",
            "tensor([[-0.3955, -0.6675],\n",
            "        [-0.3714, -0.5533]])\n"
          ]
        }
      ]
    },
    {
      "cell_type": "code",
      "source": [
        "# ...and linear algebra operations like determinant and singular value decomposition\n",
        "print('\\nDeterminant of r:')\n",
        "print(torch.det(r))\n",
        "print('\\nSingular value decomposition of r:')\n",
        "print(torch.svd(r))"
      ],
      "metadata": {
        "colab": {
          "base_uri": "https://localhost:8080/"
        },
        "id": "qGTZtuqDt4K5",
        "outputId": "7047f0f1-4785-4911-ba4b-47cff1f0bc75"
      },
      "execution_count": 43,
      "outputs": [
        {
          "output_type": "stream",
          "name": "stdout",
          "text": [
            "\n",
            "Determinant of r:\n",
            "tensor(-0.0221)\n",
            "\n",
            "Singular value decomposition of r:\n",
            "torch.return_types.svd(\n",
            "U=tensor([[-0.7523, -0.6588],\n",
            "        [-0.6588,  0.7523]]),\n",
            "S=tensor([0.9690, 0.0228]),\n",
            "V=tensor([[ 0.5459, -0.8379],\n",
            "        [ 0.8379,  0.5459]]))\n"
          ]
        }
      ]
    },
    {
      "cell_type": "code",
      "source": [
        "# ...and statistical and aggregate operations:\n",
        "print('\\nAverage and standard deviation of r:')\n",
        "print(torch.std_mean(r))\n",
        "print('\\nMaximum value of r:')\n",
        "print(torch.max(r))"
      ],
      "metadata": {
        "colab": {
          "base_uri": "https://localhost:8080/"
        },
        "id": "5dtc2GKYt4QB",
        "outputId": "e848dbb6-7431-4eda-d513-c9dee4ac4027"
      },
      "execution_count": 44,
      "outputs": [
        {
          "output_type": "stream",
          "name": "stdout",
          "text": [
            "\n",
            "Average and standard deviation of r:\n",
            "(tensor(0.1210), tensor(-0.4732))\n",
            "\n",
            "Maximum value of r:\n",
            "tensor(-0.3629)\n"
          ]
        }
      ]
    },
    {
      "cell_type": "code",
      "source": [],
      "metadata": {
        "id": "IJUEUiH4t4S6"
      },
      "execution_count": null,
      "outputs": []
    },
    {
      "cell_type": "code",
      "source": [],
      "metadata": {
        "id": "gjSzKnjJt4Xr"
      },
      "execution_count": null,
      "outputs": []
    }
  ]
}